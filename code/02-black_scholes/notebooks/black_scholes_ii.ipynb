{
 "cells": [
  {
   "cell_type": "markdown",
   "metadata": {},
   "source": [
    "## Deep Learning Black-Scholes Formula - II. Neural network from scratch"
   ]
  },
  {
   "cell_type": "code",
   "execution_count": 1,
   "metadata": {},
   "outputs": [],
   "source": [
    "import numpy as np\n",
    "import torch\n",
    "import csv\n",
    "import matplotlib.pyplot as plt"
   ]
  },
  {
   "cell_type": "code",
   "execution_count": 8,
   "metadata": {},
   "outputs": [],
   "source": [
    "dataset = []\n",
    "with open('../data/black_scholes_with_greeks.csv', newline='\\n') as csvfile:\n",
    "  reader = csv.reader(csvfile, delimiter=',')\n",
    "  for row in reader:\n",
    "    dataset.append(row)\n",
    "\n",
    "train_set, test_set = np.array(dataset[:240000], dtype=float), np.array(dataset[240000:], dtype=float)\n",
    "\n",
    "mean = np.mean(train_set, axis=0)\n",
    "std = np.std(train_set, axis=0)\n",
    "\n",
    "train_set_norm = (train_set - mean) / std\n",
    "test_set_norm = (test_set - mean) / std"
   ]
  },
  {
   "cell_type": "code",
   "execution_count": 40,
   "metadata": {},
   "outputs": [
    {
     "name": "stdout",
     "output_type": "stream",
     "text": [
      "[ 1.78184139  1.50088057  0.014994    0.01999767  0.47445661  1.13558262\n",
      "  0.46442768  0.02366605 -2.23160592  0.50208814  0.18317244]\n",
      "[3.85343327e+00 8.66183163e-01 8.65548359e-03 5.76869839e-03\n",
      " 2.45788897e-01 3.65498275e+00 3.81462247e-01 9.04119056e-02\n",
      " 6.75853860e+00 6.38880774e-01 1.94382051e-01]\n"
     ]
    }
   ],
   "source": [
    "print(mean)\n",
    "print(std)"
   ]
  },
  {
   "cell_type": "code",
   "execution_count": 11,
   "metadata": {},
   "outputs": [],
   "source": [
    "train_features, train_labels = torch.from_numpy(train_set_norm[:, 0:5]), torch.from_numpy(train_set_norm[:, 5]).reshape(-1, 1)\n",
    "test_features, test_labels = torch.from_numpy(test_set_norm[:, 0:5]), torch.from_numpy(test_set_norm[:, 5]).reshape(-1, 1)"
   ]
  },
  {
   "cell_type": "code",
   "execution_count": 12,
   "metadata": {},
   "outputs": [],
   "source": [
    "batch_size = 128\n",
    "train_iter = torch.utils.data.DataLoader(torch.utils.data.TensorDataset(train_features, train_labels),\n",
    "                                         batch_size,\n",
    "                                         shuffle=True)\n",
    "test_iter = torch.utils.data.DataLoader(torch.utils.data.TensorDataset(test_features, test_labels),\n",
    "                                        batch_size,\n",
    "                                        shuffle=False)\n"
   ]
  },
  {
   "cell_type": "code",
   "execution_count": 13,
   "metadata": {},
   "outputs": [],
   "source": [
    "num_inputs = 5\n",
    "num_hidden = 100\n",
    "num_outputs = 1\n",
    "\n",
    "w1 = torch.nn.Parameter(torch.randn(num_inputs, num_hidden, requires_grad=True) * .01)\n",
    "b1 = torch.nn.Parameter(torch.zeros(num_hidden, requires_grad=True))\n",
    "w2 = torch.nn.Parameter(torch.randn(num_hidden, num_hidden, requires_grad=True) * .01)\n",
    "b2 = torch.nn.Parameter(torch.zeros(num_hidden, requires_grad=True))\n",
    "w3 = torch.nn.Parameter(torch.randn(num_hidden, num_hidden, requires_grad=True) * .01)\n",
    "b3 = torch.nn.Parameter(torch.zeros(num_hidden, requires_grad=True))\n",
    "w4 = torch.nn.Parameter(torch.randn(num_hidden, num_hidden, requires_grad=True) * .01)\n",
    "b4 = torch.nn.Parameter(torch.zeros(num_hidden, requires_grad=True))\n",
    "w5 = torch.nn.Parameter(torch.randn(num_hidden, num_outputs, requires_grad=True) * .01)\n",
    "b5 = torch.nn.Parameter(torch.zeros(num_outputs, requires_grad=True))\n",
    "\n",
    "params = [w1, b1, w2, b2, w3, b3, w4, b4, w5, b5]\n",
    "\n",
    "class Model(torch.nn.Module):\n",
    "  def __init__(self, params) -> None:\n",
    "    super(Model, self).__init__()\n",
    "    self.softplus = torch.nn.Softplus()\n",
    "    self.w1 = params[0]\n",
    "    self.b1 = params[1]\n",
    "    self.w2 = params[2]\n",
    "    self.b2 = params[3]\n",
    "    self.w3 = params[4]\n",
    "    self.b3 = params[5]\n",
    "    self.w4 = params[6]\n",
    "    self.b4 = params[7]\n",
    "    self.w5 = params[8]\n",
    "    self.b5 = params[9]\n",
    "\n",
    "  def forward(self, x):\n",
    "    out = torch.matmul(self.softplus(x),   self.w1) + self.b1\n",
    "    out = torch.matmul(self.softplus(out), self.w2) + self.b2\n",
    "    out = torch.matmul(self.softplus(out), self.w3) + self.b3\n",
    "    out = torch.matmul(self.softplus(out), self.w4) + self.b4\n",
    "    out = torch.matmul(self.softplus(out), self.w5) + self.b5\n",
    "    return out\n",
    "\n",
    "model = Model(params)"
   ]
  },
  {
   "cell_type": "code",
   "execution_count": 14,
   "metadata": {},
   "outputs": [],
   "source": [
    "loss = torch.nn.MSELoss()"
   ]
  },
  {
   "cell_type": "code",
   "execution_count": 25,
   "metadata": {},
   "outputs": [],
   "source": [
    "learning_rate = 0.0005\n",
    "optimizer = torch.optim.Adam(params, lr=learning_rate)"
   ]
  },
  {
   "cell_type": "code",
   "execution_count": 26,
   "metadata": {},
   "outputs": [
    {
     "name": "stdout",
     "output_type": "stream",
     "text": [
      "epoch 1, loss 0.000232\n",
      "epoch 2, loss 0.000263\n"
     ]
    }
   ],
   "source": [
    "num_epochs = 2\n",
    "for epoch in range(num_epochs):\n",
    "  for X, y in train_iter:\n",
    "    l = loss(model(X.float()), y.float())\n",
    "\n",
    "    optimizer.zero_grad()\n",
    "    l.backward()\n",
    "    optimizer.step()\n",
    "\n",
    "  l = loss(model(train_features.float()), train_labels.float())\n",
    "  print(f'epoch {epoch + 1}, loss {l:f}')"
   ]
  },
  {
   "cell_type": "code",
   "execution_count": 27,
   "metadata": {},
   "outputs": [
    {
     "name": "stdout",
     "output_type": "stream",
     "text": [
      "tensor([[-0.3109],\n",
      "        [-0.3069],\n",
      "        [-0.2563],\n",
      "        [ 8.9810],\n",
      "        [-0.3113]])\n",
      "tensor([[-0.3107],\n",
      "        [-0.3078],\n",
      "        [-0.2429],\n",
      "        [ 9.0976],\n",
      "        [-0.3107]])\n"
     ]
    }
   ],
   "source": [
    "with torch.no_grad():\n",
    "  print(model(train_features[:5].float()))\n",
    "  print(train_labels[:5].float())"
   ]
  },
  {
   "cell_type": "code",
   "execution_count": 28,
   "metadata": {},
   "outputs": [
    {
     "name": "stdout",
     "output_type": "stream",
     "text": [
      "loss 0.000278\n"
     ]
    }
   ],
   "source": [
    "with torch.no_grad():\n",
    "  l = loss(model(test_features.float()), test_labels.float())\n",
    "  print(f'loss {l:f}')"
   ]
  },
  {
   "cell_type": "code",
   "execution_count": 29,
   "metadata": {},
   "outputs": [],
   "source": [
    "torch.save(model.state_dict(), '../save/black_scholes_scratch.ckpt')"
   ]
  },
  {
   "cell_type": "code",
   "execution_count": 38,
   "metadata": {},
   "outputs": [
    {
     "data": {
      "image/png": "[encoded data removed]",
      "text/plain": [
       "<Figure size 432x288 with 1 Axes>"
      ]
     },
     "metadata": {
      "needs_background": "light"
     },
     "output_type": "display_data"
    }
   ],
   "source": [
    "with torch.no_grad():\n",
    "  predicted = model(train_features.float()).numpy().reshape(-1)\n",
    "  original = train_labels.numpy().reshape(-1)\n",
    "\n",
    "  plt.plot(original, predicted, 'ro')\n",
    "  plt.xlabel(\"original\")\n",
    "  plt.ylabel(\"predicted\")\n",
    "  plt.plot([0, 19], [0, 19])\n",
    "  plt.show()"
   ]
  },
  {
   "cell_type": "code",
   "execution_count": 39,
   "metadata": {},
   "outputs": [
    {
     "data": {
      "image/png": "[encoded data removed]",
      "text/plain": [
       "<Figure size 432x288 with 1 Axes>"
      ]
     },
     "metadata": {
      "needs_background": "light"
     },
     "output_type": "display_data"
    }
   ],
   "source": [
    "with torch.no_grad():\n",
    "  predicted = model(test_features.float()).numpy().reshape(-1)\n",
    "  original = test_labels.numpy().reshape(-1)\n",
    "\n",
    "  plt.plot(original, predicted, 'ro')\n",
    "  plt.xlabel(\"original\")\n",
    "  plt.ylabel(\"predicted\")\n",
    "  plt.plot([0, 19], [0, 19])\n",
    "  plt.show()"
   ]
  },
  {
   "cell_type": "code",
   "execution_count": null,
   "metadata": {},
   "outputs": [],
   "source": []
  }
 ],
 "metadata": {
  "interpreter": {
   "hash": "00ba3cee10e5898124d14c1f20acdfddb775639586b51b12ea3c3cc061e6c1cc"
  },
  "kernelspec": {
   "display_name": "Python 3.7.3 64-bit",
   "language": "python",
   "name": "python3"
  },
  "language_info": {
   "codemirror_mode": {
    "name": "ipython",
    "version": 3
   },
   "file_extension": ".py",
   "mimetype": "text/x-python",
   "name": "python",
   "nbconvert_exporter": "python",
   "pygments_lexer": "ipython3",
   "version": "3.8.0"
  },
  "metadata": {
   "interpreter": {
    "hash": "04635d289a519a1410467dd0afb0db42f9184808881ca68b2eb5a687a20a5a94"
   }
  },
  "orig_nbformat": 4
 },
 "nbformat": 4,
 "nbformat_minor": 2
}
