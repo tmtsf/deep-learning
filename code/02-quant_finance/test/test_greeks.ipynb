{
 "cells": [
  {
   "cell_type": "code",
   "execution_count": 1,
   "metadata": {},
   "outputs": [],
   "source": [
    "import sys\n",
    "import random\n",
    "\n",
    "sys.path.append(\"../\")\n",
    "\n",
    "from src.synthetic_black_scholes_data_with_greeks import *"
   ]
  },
  {
   "cell_type": "code",
   "execution_count": 2,
   "metadata": {},
   "outputs": [],
   "source": [
    "random.seed(44)\n",
    "\n",
    "strike = random.uniform(7, 650)\n",
    "spot = random.uniform(10, 500)\n",
    "maturity = random.randint(1, 1095) / 365.\n",
    "dividend = random.uniform(.0,  .03)\n",
    "discount = random.uniform(.01, .03)\n",
    "volatility = random.uniform(.05, .9)"
   ]
  },
  {
   "cell_type": "code",
   "execution_count": 3,
   "metadata": {},
   "outputs": [],
   "source": [
    "price, delta_cf, theta_cf, epsilon_cf, rho_cf, vega_cf = value_call_option(strike, \n",
    "                                                                           spot, \n",
    "                                                                           maturity, \n",
    "                                                                           dividend, \n",
    "                                                                           discount, \n",
    "                                                                           volatility)"
   ]
  },
  {
   "cell_type": "code",
   "execution_count": 4,
   "metadata": {},
   "outputs": [],
   "source": [
    "bump = 1e-6"
   ]
  },
  {
   "cell_type": "code",
   "execution_count": 5,
   "metadata": {},
   "outputs": [
    {
     "name": "stdout",
     "output_type": "stream",
     "text": [
      "-1.265610949374718e-10\n"
     ]
    }
   ],
   "source": [
    "priceUp, delta, theta, epsilon, rho, vega = value_call_option(strike, \n",
    "                                                              spot * (1 + bump), \n",
    "                                                              maturity, \n",
    "                                                              dividend, \n",
    "                                                              discount, \n",
    "                                                              volatility)\n",
    "priceDown, delta, theta, epsilon, rho, vega = value_call_option(strike, \n",
    "                                                                spot * (1 - bump), \n",
    "                                                                maturity, \n",
    "                                                                dividend, \n",
    "                                                                discount, \n",
    "                                                                volatility)\n",
    "print((priceUp - priceDown) / 2 / spot / bump * strike - delta_cf)"
   ]
  },
  {
   "cell_type": "code",
   "execution_count": 6,
   "metadata": {},
   "outputs": [
    {
     "name": "stdout",
     "output_type": "stream",
     "text": [
      "-3.222140262937323e-11\n"
     ]
    }
   ],
   "source": [
    "priceUp, delta, theta, epsilon, rho, vega = value_call_option(strike, \n",
    "                                                              spot, \n",
    "                                                              maturity * (1 + bump), \n",
    "                                                              dividend, \n",
    "                                                              discount, \n",
    "                                                              volatility)\n",
    "priceDown, delta, theta, epsilon, rho, vega = value_call_option(strike, \n",
    "                                                                spot, \n",
    "                                                                maturity * (1 - bump), \n",
    "                                                                dividend, \n",
    "                                                                discount, \n",
    "                                                                volatility)\n",
    "print((priceUp - priceDown) / 2 / maturity / bump - theta_cf)"
   ]
  },
  {
   "cell_type": "code",
   "execution_count": 7,
   "metadata": {},
   "outputs": [
    {
     "name": "stdout",
     "output_type": "stream",
     "text": [
      "-1.780114111671338e-08\n"
     ]
    }
   ],
   "source": [
    "priceUp, delta, theta, epsilon, rho, vega = value_call_option(strike, \n",
    "                                                              spot, \n",
    "                                                              maturity, \n",
    "                                                              dividend * (1 + bump), \n",
    "                                                              discount, \n",
    "                                                              volatility)\n",
    "priceDown, delta, theta, epsilon, rho, vega = value_call_option(strike, \n",
    "                                                                spot, \n",
    "                                                                maturity, \n",
    "                                                                dividend * (1 - bump), \n",
    "                                                                discount, \n",
    "                                                                volatility)\n",
    "print((priceUp - priceDown) / 2 / dividend / bump - epsilon_cf)"
   ]
  },
  {
   "cell_type": "code",
   "execution_count": 8,
   "metadata": {},
   "outputs": [
    {
     "name": "stdout",
     "output_type": "stream",
     "text": [
      "-4.631794559006863e-09\n"
     ]
    }
   ],
   "source": [
    "priceUp, delta, theta, epsilon, rho, vega = value_call_option(strike, \n",
    "                                                              spot, \n",
    "                                                              maturity, \n",
    "                                                              dividend, \n",
    "                                                              discount * (1 + bump), \n",
    "                                                              volatility)\n",
    "priceDown, delta, theta, epsilon, rho, vega = value_call_option(strike, \n",
    "                                                                spot, \n",
    "                                                                maturity, \n",
    "                                                                dividend, \n",
    "                                                                discount * (1 - bump), \n",
    "                                                                volatility)\n",
    "print((priceUp - priceDown) / 2 / discount / bump - rho_cf)"
   ]
  },
  {
   "cell_type": "code",
   "execution_count": 9,
   "metadata": {},
   "outputs": [
    {
     "name": "stdout",
     "output_type": "stream",
     "text": [
      "-1.070170285721872e-09\n"
     ]
    }
   ],
   "source": [
    "priceUp, delta, theta, epsilon, rho, vega = value_call_option(strike, \n",
    "                                                              spot, \n",
    "                                                              maturity, \n",
    "                                                              dividend, \n",
    "                                                              discount, \n",
    "                                                              volatility * (1 + bump))\n",
    "priceDown, delta, theta, epsilon, rho, vega = value_call_option(strike, \n",
    "                                                                spot, \n",
    "                                                                maturity, \n",
    "                                                                dividend, \n",
    "                                                                discount, \n",
    "                                                                volatility * (1 - bump))\n",
    "print((priceUp - priceDown) / 2 / volatility / bump - vega_cf)"
   ]
  },
  {
   "cell_type": "code",
   "execution_count": null,
   "metadata": {},
   "outputs": [],
   "source": []
  }
 ],
 "metadata": {
  "interpreter": {
   "hash": "00ba3cee10e5898124d14c1f20acdfddb775639586b51b12ea3c3cc061e6c1cc"
  },
  "kernelspec": {
   "display_name": "Python 3.8.0 64-bit",
   "language": "python",
   "name": "python3"
  },
  "language_info": {
   "codemirror_mode": {
    "name": "ipython",
    "version": 3
   },
   "file_extension": ".py",
   "mimetype": "text/x-python",
   "name": "python",
   "nbconvert_exporter": "python",
   "pygments_lexer": "ipython3",
   "version": "3.8.0"
  },
  "orig_nbformat": 4
 },
 "nbformat": 4,
 "nbformat_minor": 2
}
