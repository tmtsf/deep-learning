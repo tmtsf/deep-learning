{
 "cells": [
  {
   "cell_type": "markdown",
   "metadata": {},
   "source": [
    "## Deep Learning Black-Scholes Formula - I. PyTorch"
   ]
  },
  {
   "cell_type": "code",
   "execution_count": 1,
   "metadata": {},
   "outputs": [],
   "source": [
    "import numpy as np\n",
    "import torch\n",
    "import csv\n",
    "import matplotlib.pyplot as plt"
   ]
  },
  {
   "cell_type": "code",
   "execution_count": 8,
   "metadata": {},
   "outputs": [],
   "source": [
    "dataset = []\n",
    "with open('../data/black_scholes_with_greeks.csv', newline='\\n') as csvfile:\n",
    "  reader = csv.reader(csvfile, delimiter=',')\n",
    "  for row in reader:\n",
    "    dataset.append(row)\n",
    "\n",
    "train_set, test_set = np.array(dataset[:240000], dtype=float), np.array(dataset[240000:], dtype=float)\n",
    "train_features, train_labels = torch.from_numpy(train_set[:, 0:5]), torch.from_numpy(train_set[:, 5]).reshape(-1, 1)\n",
    "test_features, test_labels = torch.from_numpy(test_set[:, 0:5]), torch.from_numpy(test_set[:, 5]).reshape(-1, 1)"
   ]
  },
  {
   "cell_type": "code",
   "execution_count": 9,
   "metadata": {},
   "outputs": [],
   "source": [
    "batch_size = 128\n",
    "train_iter = torch.utils.data.DataLoader(torch.utils.data.TensorDataset(train_features, train_labels),\n",
    "                                         batch_size,\n",
    "                                         shuffle=True)\n",
    "test_iter = torch.utils.data.DataLoader(torch.utils.data.TensorDataset(test_features, test_labels),\n",
    "                                        batch_size,\n",
    "                                        shuffle=False)\n"
   ]
  },
  {
   "cell_type": "code",
   "execution_count": 10,
   "metadata": {},
   "outputs": [],
   "source": [
    "num_inputs = 5\n",
    "num_hidden = 100\n",
    "num_outputs = 1\n",
    "model = torch.nn.Sequential(torch.nn.Linear(num_inputs, num_hidden),\n",
    "                            torch.nn.Softplus(),\n",
    "                            torch.nn.Linear(num_hidden, num_hidden),\n",
    "                            torch.nn.Softplus(),\n",
    "                            torch.nn.Linear(num_hidden, num_hidden),\n",
    "                            torch.nn.Softplus(),\n",
    "                            torch.nn.Linear(num_hidden, num_hidden),\n",
    "                            torch.nn.Softplus(),\n",
    "                            torch.nn.Linear(num_hidden, num_outputs))"
   ]
  },
  {
   "cell_type": "code",
   "execution_count": 11,
   "metadata": {},
   "outputs": [],
   "source": [
    "loss = torch.nn.MSELoss()"
   ]
  },
  {
   "cell_type": "code",
   "execution_count": 12,
   "metadata": {},
   "outputs": [],
   "source": [
    "learning_rate = 0.001\n",
    "optimizer = torch.optim.Adam(model.parameters(), lr=learning_rate)"
   ]
  },
  {
   "cell_type": "code",
   "execution_count": 16,
   "metadata": {},
   "outputs": [
    {
     "name": "stdout",
     "output_type": "stream",
     "text": [
      "epoch 1, loss 0.003259\n"
     ]
    }
   ],
   "source": [
    "num_epochs = 1\n",
    "for epoch in range(num_epochs):\n",
    "  for X, y in train_iter:\n",
    "    l = loss(model(X.float()), y.float())\n",
    "\n",
    "    optimizer.zero_grad()\n",
    "    l.backward()\n",
    "    optimizer.step()\n",
    "\n",
    "  l = loss(model(train_features.float()), train_labels.float())\n",
    "  print(f'epoch {epoch + 1}, loss {l:f}')"
   ]
  },
  {
   "cell_type": "code",
   "execution_count": 17,
   "metadata": {},
   "outputs": [
    {
     "name": "stdout",
     "output_type": "stream",
     "text": [
      "tensor([[5.0248e-03],\n",
      "        [2.4303e-02],\n",
      "        [2.6759e-01],\n",
      "        [3.4244e+01],\n",
      "        [8.6931e-04]])\n",
      "tensor([[0.0000e+00],\n",
      "        [1.0551e-02],\n",
      "        [2.4765e-01],\n",
      "        [3.4387e+01],\n",
      "        [5.1302e-14]])\n"
     ]
    }
   ],
   "source": [
    "with torch.no_grad():\n",
    "  print(model(train_features[:5].float()))\n",
    "  print(train_labels[:5].float())"
   ]
  },
  {
   "cell_type": "code",
   "execution_count": 18,
   "metadata": {},
   "outputs": [
    {
     "name": "stdout",
     "output_type": "stream",
     "text": [
      "loss 0.003182\n"
     ]
    }
   ],
   "source": [
    "with torch.no_grad():\n",
    "  l = loss(model(test_features.float()), test_labels.float())\n",
    "  print(f'loss {l:f}')"
   ]
  },
  {
   "cell_type": "code",
   "execution_count": 21,
   "metadata": {},
   "outputs": [],
   "source": [
    "torch.save(model.state_dict(), '../save/black_scholes_pytorch.ckpt')"
   ]
  },
  {
   "cell_type": "code",
   "execution_count": 19,
   "metadata": {},
   "outputs": [
    {
     "data": {
      "image/png": "[encoded data removed]",
      "text/plain": [
       "<Figure size 432x288 with 1 Axes>"
      ]
     },
     "metadata": {
      "needs_background": "light"
     },
     "output_type": "display_data"
    }
   ],
   "source": [
    "with torch.no_grad():\n",
    "  predicted = model(train_features.float()).numpy().reshape(-1)\n",
    "  original = train_labels.numpy().reshape(-1)\n",
    "\n",
    "  plt.plot(original, predicted, 'ro')\n",
    "  plt.xlabel(\"original\")\n",
    "  plt.ylabel(\"predicted\")\n",
    "  plt.plot([0, 70], [0, 70])\n",
    "  plt.show()"
   ]
  },
  {
   "cell_type": "code",
   "execution_count": 20,
   "metadata": {},
   "outputs": [
    {
     "data": {
      "image/png": "[encoded data removed]",
      "text/plain": [
       "<Figure size 432x288 with 1 Axes>"
      ]
     },
     "metadata": {
      "needs_background": "light"
     },
     "output_type": "display_data"
    }
   ],
   "source": [
    "with torch.no_grad():\n",
    "  predicted = model(test_features.float()).numpy().reshape(-1)\n",
    "  original = test_labels.numpy().reshape(-1)\n",
    "\n",
    "  plt.plot(original, predicted, 'ro')\n",
    "  plt.xlabel(\"original\")\n",
    "  plt.ylabel(\"predicted\")\n",
    "  plt.plot([0, 70], [0, 70])\n",
    "  plt.show()"
   ]
  },
  {
   "cell_type": "code",
   "execution_count": 22,
   "metadata": {},
   "outputs": [
    {
     "name": "stdout",
     "output_type": "stream",
     "text": [
      "0.5008855378998333\n",
      "tensor([0.4817])\n"
     ]
    }
   ],
   "source": [
    "from synthetic_black_scholes_data import value_call_option\n",
    "import random\n",
    "\n",
    "strike = random.uniform(7, 650)\n",
    "spot = random.uniform(10, 500)\n",
    "maturity = random.randint(1, 1095) / 365.\n",
    "dividend = random.uniform(.0,  .03)\n",
    "discount = random.uniform(.01, .03)\n",
    "volatility = random.uniform(.05, .9)\n",
    "\n",
    "price = value_call_option(strike, spot, maturity, dividend, discount, volatility) / strike\n",
    "predicted = model(torch.tensor([spot / strike, maturity, dividend, discount, volatility])).detach()\n",
    "print(price)\n",
    "print(predicted)"
   ]
  },
  {
   "cell_type": "code",
   "execution_count": null,
   "metadata": {},
   "outputs": [],
   "source": []
  }
 ],
 "metadata": {
  "interpreter": {
   "hash": "00ba3cee10e5898124d14c1f20acdfddb775639586b51b12ea3c3cc061e6c1cc"
  },
  "kernelspec": {
   "display_name": "Python 3.8.0 64-bit",
   "language": "python",
   "name": "python3"
  },
  "language_info": {
   "codemirror_mode": {
    "name": "ipython",
    "version": 3
   },
   "file_extension": ".py",
   "mimetype": "text/x-python",
   "name": "python",
   "nbconvert_exporter": "python",
   "pygments_lexer": "ipython3",
   "version": "3.8.0"
  },
  "orig_nbformat": 4
 },
 "nbformat": 4,
 "nbformat_minor": 2
}
