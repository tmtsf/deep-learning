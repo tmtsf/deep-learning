{
 "cells": [
  {
   "cell_type": "markdown",
   "metadata": {},
   "source": [
    "## Deep Learning Black-Scholes Formula - I. PyTorch"
   ]
  },
  {
   "cell_type": "code",
   "execution_count": 1,
   "metadata": {},
   "outputs": [],
   "source": [
    "import numpy as np\n",
    "import torch\n",
    "import csv\n",
    "import matplotlib.pyplot as plt"
   ]
  },
  {
   "cell_type": "code",
   "execution_count": 2,
   "metadata": {},
   "outputs": [],
   "source": [
    "dataset = []\n",
    "with open('../data/black_scholes_with_greeks.csv', newline='\\n') as csvfile:\n",
    "  reader = csv.reader(csvfile, delimiter=',')\n",
    "  for row in reader:\n",
    "    dataset.append(row)\n",
    "\n",
    "train_set, test_set = np.array(dataset[:240000], dtype=float), np.array(dataset[240000:], dtype=float)\n",
    "train_features, train_labels = torch.from_numpy(train_set[:, 0:5]), torch.from_numpy(train_set[:, 5]).reshape(-1, 1)\n",
    "test_features, test_labels = torch.from_numpy(test_set[:, 0:5]), torch.from_numpy(test_set[:, 5]).reshape(-1, 1)"
   ]
  },
  {
   "cell_type": "code",
   "execution_count": 3,
   "metadata": {},
   "outputs": [],
   "source": [
    "batch_size = 128\n",
    "train_iter = torch.utils.data.DataLoader(torch.utils.data.TensorDataset(train_features, train_labels),\n",
    "                                         batch_size,\n",
    "                                         shuffle=True)\n",
    "test_iter = torch.utils.data.DataLoader(torch.utils.data.TensorDataset(test_features, test_labels),\n",
    "                                        batch_size,\n",
    "                                        shuffle=False)\n"
   ]
  },
  {
   "cell_type": "code",
   "execution_count": 4,
   "metadata": {},
   "outputs": [],
   "source": [
    "num_inputs = 5\r\n",
    "num_hidden = 100\r\n",
    "num_outputs = 1\r\n",
    "\r\n",
    "# model = torch.nn.Sequential(torch.nn.Softplus(),\r\n",
    "#                             torch.nn.Linear(num_inputs, num_hidden),\r\n",
    "#                             torch.nn.Softplus(),\r\n",
    "#                             torch.nn.Linear(num_hidden, num_hidden),\r\n",
    "#                             torch.nn.Softplus(),\r\n",
    "#                             torch.nn.Linear(num_hidden, num_hidden),\r\n",
    "#                             torch.nn.Softplus(),\r\n",
    "#                             torch.nn.Linear(num_hidden, num_hidden),\r\n",
    "#                             torch.nn.Softplus(),\r\n",
    "#                             torch.nn.Linear(num_hidden, num_outputs))\r\n",
    "\r\n",
    "class Model(torch.nn.Module):\r\n",
    "  def __init__(self, num_inputs, num_hidden, num_outputs) -> None:\r\n",
    "    super(Model, self).__init__()\r\n",
    "    self.softplus = torch.nn.Softplus()\r\n",
    "    self.linear1 = torch.nn.Linear(num_inputs, num_hidden)\r\n",
    "    self.linear2 = torch.nn.Linear(num_hidden, num_hidden)\r\n",
    "    self.linear3 = torch.nn.Linear(num_hidden, num_hidden)\r\n",
    "    self.linear4 = torch.nn.Linear(num_hidden, num_hidden)\r\n",
    "    self.linear5 = torch.nn.Linear(num_hidden, num_outputs)\r\n",
    "\r\n",
    "  def forward(self, x):\r\n",
    "    out = self.linear1(self.softplus(x))\r\n",
    "    out = self.linear2(self.softplus(out))\r\n",
    "    out = self.linear3(self.softplus(out))\r\n",
    "    out = self.linear4(self.softplus(out))\r\n",
    "    out = self.linear5(self.softplus(out))\r\n",
    "    out = torch.exp(out)\r\n",
    "    return out\r\n",
    "\r\n",
    "model = Model(num_inputs, num_hidden, num_outputs)"
   ]
  },
  {
   "cell_type": "code",
   "execution_count": 5,
   "metadata": {},
   "outputs": [],
   "source": [
    "loss = torch.nn.MSELoss()"
   ]
  },
  {
   "cell_type": "code",
   "execution_count": 11,
   "metadata": {},
   "outputs": [],
   "source": [
    "learning_rate = 0.0002\r\n",
    "optimizer = torch.optim.Adam(model.parameters(), lr=learning_rate)"
   ]
  },
  {
   "cell_type": "code",
   "execution_count": 15,
   "metadata": {},
   "outputs": [
    {
     "name": "stdout",
     "output_type": "stream",
     "text": [
      "epoch 1, loss 0.004470\n"
     ]
    }
   ],
   "source": [
    "num_epochs = 1\r\n",
    "for epoch in range(num_epochs):\r\n",
    "  for X, y in train_iter:\r\n",
    "    l = loss(model(X.float()), y.float())\r\n",
    "\r\n",
    "    optimizer.zero_grad()\r\n",
    "    l.backward()\r\n",
    "    optimizer.step()\r\n",
    "\r\n",
    "  l = loss(model(train_features.float()), train_labels.float())\r\n",
    "  print(f'epoch {epoch + 1}, loss {l:f}')"
   ]
  },
  {
   "cell_type": "code",
   "execution_count": 16,
   "metadata": {},
   "outputs": [
    {
     "name": "stdout",
     "output_type": "stream",
     "text": [
      "tensor([[1.9863e-04],\n",
      "        [1.5867e-02],\n",
      "        [2.2792e-01],\n",
      "        [3.3807e+01],\n",
      "        [4.2826e-04]])\n",
      "tensor([[0.0000e+00],\n",
      "        [1.0551e-02],\n",
      "        [2.4765e-01],\n",
      "        [3.4387e+01],\n",
      "        [5.1302e-14]])\n"
     ]
    }
   ],
   "source": [
    "with torch.no_grad():\n",
    "  print(model(train_features[:5].float()))\n",
    "  print(train_labels[:5].float())"
   ]
  },
  {
   "cell_type": "code",
   "execution_count": 17,
   "metadata": {},
   "outputs": [
    {
     "name": "stdout",
     "output_type": "stream",
     "text": [
      "loss 0.004374\n"
     ]
    }
   ],
   "source": [
    "with torch.no_grad():\n",
    "  l = loss(model(test_features.float()), test_labels.float())\n",
    "  print(f'loss {l:f}')"
   ]
  },
  {
   "cell_type": "code",
   "execution_count": 18,
   "metadata": {},
   "outputs": [],
   "source": [
    "torch.save(model.state_dict(), '../save/black_scholes_pytorch.ckpt')"
   ]
  },
  {
   "cell_type": "code",
   "execution_count": 19,
   "metadata": {},
   "outputs": [
    {
     "data": {
      "image/png": "[encoded data removed]",
      "text/plain": "<Figure size 432x288 with 1 Axes>"
     },
     "metadata": {
      "needs_background": "light"
     },
     "output_type": "display_data"
    }
   ],
   "source": [
    "with torch.no_grad():\r\n",
    "  predicted = model(train_features.float()).numpy().reshape(-1)\r\n",
    "  original = train_labels.numpy().reshape(-1)\r\n",
    "\r\n",
    "  plt.plot(original, predicted, 'ro')\r\n",
    "  plt.xlabel(\"original\")\r\n",
    "  plt.ylabel(\"predicted\")\r\n",
    "  plt.plot([0, 70], [0, 70])\r\n",
    "  plt.show()"
   ]
  },
  {
   "cell_type": "code",
   "execution_count": 20,
   "metadata": {},
   "outputs": [
    {
     "data": {
      "image/png": "[encoded data removed]",
      "text/plain": "<Figure size 432x288 with 1 Axes>"
     },
     "metadata": {
      "needs_background": "light"
     },
     "output_type": "display_data"
    }
   ],
   "source": [
    "with torch.no_grad():\r\n",
    "  predicted = model(test_features.float()).numpy().reshape(-1)\r\n",
    "  original = test_labels.numpy().reshape(-1)\r\n",
    "\r\n",
    "  plt.plot(original, predicted, 'ro')\r\n",
    "  plt.xlabel(\"original\")\r\n",
    "  plt.ylabel(\"predicted\")\r\n",
    "  plt.plot([0, 70], [0, 70])\r\n",
    "  plt.show()"
   ]
  },
  {
   "cell_type": "code",
   "execution_count": null,
   "metadata": {},
   "outputs": [],
   "source": []
  }
 ],
 "metadata": {
  "interpreter": {
   "hash": "00ba3cee10e5898124d14c1f20acdfddb775639586b51b12ea3c3cc061e6c1cc"
  },
  "kernelspec": {
   "display_name": "Python 3.7.3 64-bit",
   "name": "python37364bitdaae7ca97548446f8a345cb23cad930b"
  },
  "language_info": {
   "codemirror_mode": {
    "name": "ipython",
    "version": 3
   },
   "file_extension": ".py",
   "mimetype": "text/x-python",
   "name": "python",
   "nbconvert_exporter": "python",
   "pygments_lexer": "ipython3",
   "version": "3.7.3"
  },
  "metadata": {
   "interpreter": {
    "hash": "04635d289a519a1410467dd0afb0db42f9184808881ca68b2eb5a687a20a5a94"
   }
  },
  "orig_nbformat": 4
 },
 "nbformat": 4,
 "nbformat_minor": 2
}