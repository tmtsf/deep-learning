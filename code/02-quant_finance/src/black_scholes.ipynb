{
 "cells": [
  {
   "cell_type": "markdown",
   "metadata": {},
   "source": [
    "## Learning Black-Scholes Equation for Vanilla Options"
   ]
  },
  {
   "cell_type": "code",
   "execution_count": 257,
   "metadata": {},
   "outputs": [],
   "source": [
    "import numpy as np\n",
    "import torch\n",
    "import csv"
   ]
  },
  {
   "cell_type": "code",
   "execution_count": 258,
   "metadata": {},
   "outputs": [],
   "source": [
    "dataset = []\n",
    "with open('../data/black_scholes.csv', newline='\\n') as csvfile:\n",
    "  reader = csv.reader(csvfile, delimiter=',')\n",
    "  for row in reader:\n",
    "    dataset.append(row)\n",
    "\n",
    "train_set, test_set = np.array(dataset[:50000], dtype=float), np.array(dataset[50000:60000], dtype=float)\n",
    "train_features, train_labels = torch.from_numpy(train_set[:, 0:5]), torch.from_numpy(train_set[:, 5]).reshape(-1, 1)\n",
    "test_features, test_labels = torch.from_numpy(test_set[:, 0:5]), torch.from_numpy(test_set[:, 5]).reshape(-1, 1)"
   ]
  },
  {
   "cell_type": "code",
   "execution_count": 259,
   "metadata": {},
   "outputs": [],
   "source": [
    "batch_size = 64\n",
    "train_iter = torch.utils.data.DataLoader(torch.utils.data.TensorDataset(train_features, train_labels),\n",
    "                                         batch_size,\n",
    "                                         shuffle=True)\n",
    "test_iter = torch.utils.data.DataLoader(torch.utils.data.TensorDataset(test_features, test_labels),\n",
    "                                        batch_size,\n",
    "                                        shuffle=False)\n"
   ]
  },
  {
   "cell_type": "code",
   "execution_count": 260,
   "metadata": {},
   "outputs": [],
   "source": [
    "num_inputs = 5\n",
    "num_hidden = 100\n",
    "num_outputs = 1\n",
    "dropout = .2\n",
    "model = torch.nn.Sequential(torch.nn.Linear(num_inputs, num_hidden),\n",
    "                            torch.nn.LeakyReLU(),\n",
    "                            torch.nn.Dropout(dropout),\n",
    "                            torch.nn.Linear(num_hidden, num_hidden),\n",
    "                            torch.nn.ELU(),\n",
    "                            torch.nn.Dropout(dropout),\n",
    "                            torch.nn.Linear(num_hidden, num_hidden),\n",
    "                            torch.nn.ReLU(),\n",
    "                            torch.nn.Dropout(dropout),\n",
    "                            torch.nn.Linear(num_hidden, num_hidden),\n",
    "                            torch.nn.ELU(),\n",
    "                            torch.nn.Dropout(dropout),\n",
    "                            torch.nn.Linear(num_hidden, num_outputs))"
   ]
  },
  {
   "cell_type": "code",
   "execution_count": 261,
   "metadata": {},
   "outputs": [],
   "source": [
    "loss = torch.nn.MSELoss()"
   ]
  },
  {
   "cell_type": "code",
   "execution_count": 262,
   "metadata": {},
   "outputs": [],
   "source": [
    "learning_rate = 0.002\n",
    "optimizer = torch.optim.SGD(model.parameters(), lr=learning_rate)"
   ]
  },
  {
   "cell_type": "code",
   "execution_count": 263,
   "metadata": {},
   "outputs": [
    {
     "name": "stdout",
     "output_type": "stream",
     "text": [
      "epoch 1, loss 0.741730\n",
      "epoch 2, loss 0.510371\n",
      "epoch 3, loss 0.422268\n",
      "epoch 4, loss 0.548006\n",
      "epoch 5, loss 1.449436\n",
      "epoch 6, loss 0.343896\n",
      "epoch 7, loss 0.376971\n",
      "epoch 8, loss 0.346611\n",
      "epoch 9, loss 0.321213\n",
      "epoch 10, loss 0.292195\n"
     ]
    }
   ],
   "source": [
    "num_epochs = 10\n",
    "for epoch in range(num_epochs):\n",
    "  for X, y in train_iter:\n",
    "    l = loss(model(X.float()), y.float())\n",
    "\n",
    "    optimizer.zero_grad()\n",
    "    l.backward()\n",
    "    optimizer.step()\n",
    "\n",
    "  l = loss(model(train_features.float()), train_labels.float())\n",
    "  print(f'epoch {epoch + 1}, loss {l:f}')"
   ]
  },
  {
   "cell_type": "code",
   "execution_count": 264,
   "metadata": {},
   "outputs": [
    {
     "name": "stdout",
     "output_type": "stream",
     "text": [
      "tensor([[ 7.9111e-03],\n",
      "        [-3.7489e-03],\n",
      "        [ 2.3202e-01],\n",
      "        [ 3.1241e+01],\n",
      "        [-1.9131e-02]])\n",
      "tensor([[0.0000e+00],\n",
      "        [1.0551e-02],\n",
      "        [2.4765e-01],\n",
      "        [3.4387e+01],\n",
      "        [5.1302e-14]])\n"
     ]
    }
   ],
   "source": [
    "with torch.no_grad():\n",
    "  print(model(train_features[:5].float()))\n",
    "  print(train_labels[:5].float())"
   ]
  },
  {
   "cell_type": "code",
   "execution_count": 267,
   "metadata": {},
   "outputs": [
    {
     "name": "stdout",
     "output_type": "stream",
     "text": [
      "loss 0.307934\n"
     ]
    }
   ],
   "source": [
    "with torch.no_grad():\n",
    "  l = loss(model(test_features.float()), test_labels.float())\n",
    "  print(f'loss {l:f}')"
   ]
  },
  {
   "cell_type": "code",
   "execution_count": null,
   "metadata": {},
   "outputs": [],
   "source": [
    "torch.save(model.state_dict(), '../save/black_scholes.ckpt')"
   ]
  },
  {
   "cell_type": "code",
   "execution_count": null,
   "metadata": {},
   "outputs": [],
   "source": []
  }
 ],
 "metadata": {
  "interpreter": {
   "hash": "00ba3cee10e5898124d14c1f20acdfddb775639586b51b12ea3c3cc061e6c1cc"
  },
  "kernelspec": {
   "display_name": "Python 3.8.0 64-bit",
   "language": "python",
   "name": "python3"
  },
  "language_info": {
   "codemirror_mode": {
    "name": "ipython",
    "version": 3
   },
   "file_extension": ".py",
   "mimetype": "text/x-python",
   "name": "python",
   "nbconvert_exporter": "python",
   "pygments_lexer": "ipython3",
   "version": "3.8.0"
  },
  "orig_nbformat": 4
 },
 "nbformat": 4,
 "nbformat_minor": 2
}
