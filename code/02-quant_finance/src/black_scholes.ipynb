{
 "cells": [
  {
   "cell_type": "markdown",
   "metadata": {},
   "source": [
    "## Learning Black-Scholes Equation for Vanilla Options"
   ]
  },
  {
   "cell_type": "code",
   "execution_count": 94,
   "metadata": {},
   "outputs": [],
   "source": [
    "import numpy as np\n",
    "import torch\n",
    "import csv"
   ]
  },
  {
   "cell_type": "code",
   "execution_count": 95,
   "metadata": {},
   "outputs": [],
   "source": [
    "dataset = []\n",
    "with open('../data/black_scholes.csv', newline='\\n') as csvfile:\n",
    "  reader = csv.reader(csvfile, delimiter=',')\n",
    "  for row in reader:\n",
    "    dataset.append([float(row[0]), float(row[1]), float(row[2]),\n",
    "                    float(row[3]), float(row[4]), float(row[5])])\n",
    "\n",
    "train_set, test_set = torch.tensor(dataset[:7000]), torch.tensor(dataset[7000:])\n",
    "train_features, train_labels = train_set[:, :5], train_set[:, 5]\n",
    "test_features, test_labels = test_set[:, :5], test_set[:, 5]"
   ]
  },
  {
   "cell_type": "code",
   "execution_count": 96,
   "metadata": {},
   "outputs": [],
   "source": [
    "batch_size = 40\n",
    "train_iter = torch.utils.data.DataLoader(torch.utils.data.TensorDataset(train_features, train_labels),\n",
    "                                         batch_size,\n",
    "                                         shuffle=True)\n",
    "test_iter = torch.utils.data.DataLoader(torch.utils.data.TensorDataset(test_features, test_labels),\n",
    "                                        batch_size,\n",
    "                                        shuffle=False)\n"
   ]
  },
  {
   "cell_type": "code",
   "execution_count": 97,
   "metadata": {},
   "outputs": [],
   "source": [
    "num_inputs = 5\n",
    "num_hidden = 100\n",
    "num_outputs = 1\n",
    "model = torch.nn.Sequential(torch.nn.Linear(num_inputs, num_hidden),\n",
    "                            torch.nn.LeakyReLU(),\n",
    "                            torch.nn.Linear(num_hidden, num_hidden),\n",
    "                            torch.nn.ELU(),\n",
    "                            torch.nn.Linear(num_hidden, num_hidden),\n",
    "                            torch.nn.ReLU(),\n",
    "                            torch.nn.Linear(num_hidden, num_hidden),\n",
    "                            torch.nn.ELU(),\n",
    "                            torch.nn.Linear(num_hidden, num_outputs))"
   ]
  },
  {
   "cell_type": "code",
   "execution_count": 98,
   "metadata": {},
   "outputs": [],
   "source": [
    "loss = torch.nn.MSELoss()"
   ]
  },
  {
   "cell_type": "code",
   "execution_count": 99,
   "metadata": {},
   "outputs": [],
   "source": [
    "learning_rate = 0.001\n",
    "optimizer = torch.optim.Adam(model.parameters(), lr=learning_rate)"
   ]
  },
  {
   "cell_type": "code",
   "execution_count": 100,
   "metadata": {},
   "outputs": [
    {
     "name": "stdout",
     "output_type": "stream",
     "text": [
      "epoch 1, loss 14.028685\n",
      "epoch 2, loss 14.032825\n",
      "epoch 3, loss 14.035039\n",
      "epoch 4, loss 14.027887\n",
      "epoch 5, loss 14.027248\n",
      "epoch 6, loss 14.025537\n",
      "epoch 7, loss 14.029273\n",
      "epoch 8, loss 14.024611\n",
      "epoch 9, loss 14.047000\n",
      "epoch 10, loss 14.033741\n"
     ]
    }
   ],
   "source": [
    "num_epochs = 10\n",
    "for epoch in range(num_epochs):\n",
    "  for X, y in train_iter:\n",
    "    l = loss(torch.exp(model(X)), y)\n",
    "\n",
    "    optimizer.zero_grad()\n",
    "    l.backward()\n",
    "    optimizer.step()\n",
    "\n",
    "  l = loss(torch.exp(model(train_features)), train_labels)\n",
    "  print(f'epoch {epoch + 1}, loss {l:f}')"
   ]
  },
  {
   "cell_type": "code",
   "execution_count": 101,
   "metadata": {},
   "outputs": [
    {
     "name": "stdout",
     "output_type": "stream",
     "text": [
      "loss 15.404756\n"
     ]
    }
   ],
   "source": [
    "with torch.no_grad():\n",
    "  l = loss(torch.exp(model(test_features)), test_labels)\n",
    "  print(f'loss {l:f}')"
   ]
  },
  {
   "cell_type": "code",
   "execution_count": 102,
   "metadata": {},
   "outputs": [],
   "source": [
    "torch.save(model.state_dict(), '../save/black_scholes.ckpt')"
   ]
  },
  {
   "cell_type": "code",
   "execution_count": null,
   "metadata": {},
   "outputs": [],
   "source": []
  }
 ],
 "metadata": {
  "interpreter": {
   "hash": "00ba3cee10e5898124d14c1f20acdfddb775639586b51b12ea3c3cc061e6c1cc"
  },
  "kernelspec": {
   "display_name": "Python 3.8.0 64-bit",
   "language": "python",
   "name": "python3"
  },
  "language_info": {
   "codemirror_mode": {
    "name": "ipython",
    "version": 3
   },
   "file_extension": ".py",
   "mimetype": "text/x-python",
   "name": "python",
   "nbconvert_exporter": "python",
   "pygments_lexer": "ipython3",
   "version": "3.8.0"
  },
  "orig_nbformat": 4
 },
 "nbformat": 4,
 "nbformat_minor": 2
}
