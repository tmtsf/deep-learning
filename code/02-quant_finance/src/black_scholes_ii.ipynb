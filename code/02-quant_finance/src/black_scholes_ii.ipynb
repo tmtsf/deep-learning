{
 "cells": [
  {
   "cell_type": "markdown",
   "metadata": {},
   "source": [
    "## Deep Learning Black-Scholes Formula - II. Neural network from scratch"
   ]
  },
  {
   "cell_type": "code",
   "execution_count": 1,
   "metadata": {},
   "outputs": [],
   "source": [
    "import numpy as np\n",
    "import torch\n",
    "import csv\n",
    "import matplotlib.pyplot as plt"
   ]
  },
  {
   "cell_type": "code",
   "execution_count": 2,
   "metadata": {},
   "outputs": [],
   "source": [
    "dataset = []\n",
    "with open('../data/black_scholes_with_greeks.csv', newline='\\n') as csvfile:\n",
    "  reader = csv.reader(csvfile, delimiter=',')\n",
    "  for row in reader:\n",
    "    dataset.append(row)\n",
    "\n",
    "train_set, test_set = np.array(dataset[:240000], dtype=float), np.array(dataset[240000:], dtype=float)\n",
    "train_features, train_labels = torch.from_numpy(train_set[:, 0:5]), torch.from_numpy(train_set[:, 5]).reshape(-1, 1)\n",
    "test_features, test_labels = torch.from_numpy(test_set[:, 0:5]), torch.from_numpy(test_set[:, 5]).reshape(-1, 1)"
   ]
  },
  {
   "cell_type": "code",
   "execution_count": 3,
   "metadata": {},
   "outputs": [],
   "source": [
    "batch_size = 128\n",
    "train_iter = torch.utils.data.DataLoader(torch.utils.data.TensorDataset(train_features, train_labels),\n",
    "                                         batch_size,\n",
    "                                         shuffle=True)\n",
    "test_iter = torch.utils.data.DataLoader(torch.utils.data.TensorDataset(test_features, test_labels),\n",
    "                                        batch_size,\n",
    "                                        shuffle=False)\n"
   ]
  },
  {
   "cell_type": "code",
   "execution_count": 4,
   "metadata": {},
   "outputs": [],
   "source": [
    "num_inputs = 5\n",
    "num_hidden = 100\n",
    "num_outputs = 1\n",
    "\n",
    "w1 = torch.nn.Parameter(torch.randn(num_inputs, num_hidden, requires_grad=True) * .01)\n",
    "b1 = torch.nn.Parameter(torch.zeros(num_hidden, requires_grad=True))\n",
    "w2 = torch.nn.Parameter(torch.randn(num_hidden, num_hidden, requires_grad=True) * .01)\n",
    "b2 = torch.nn.Parameter(torch.zeros(num_hidden, requires_grad=True))\n",
    "w3 = torch.nn.Parameter(torch.randn(num_hidden, num_hidden, requires_grad=True) * .01)\n",
    "b3 = torch.nn.Parameter(torch.zeros(num_hidden, requires_grad=True))\n",
    "w4 = torch.nn.Parameter(torch.randn(num_hidden, num_hidden, requires_grad=True) * .01)\n",
    "b4 = torch.nn.Parameter(torch.zeros(num_hidden, requires_grad=True))\n",
    "w5 = torch.nn.Parameter(torch.randn(num_hidden, num_outputs, requires_grad=True) * .01)\n",
    "b5 = torch.nn.Parameter(torch.zeros(num_outputs, requires_grad=True))\n",
    "\n",
    "params = [w1, b1, w2, b2, w3, b3, w4, b4, w5, b5]\n",
    "\n",
    "class Model(torch.nn.Module):\n",
    "  def __init__(self, params) -> None:\n",
    "    super(Model, self).__init__()\n",
    "    self.softplus = torch.nn.Softplus()\n",
    "    self.w1 = params[0]\n",
    "    self.b1 = params[1]\n",
    "    self.w2 = params[2]\n",
    "    self.b2 = params[3]\n",
    "    self.w3 = params[4]\n",
    "    self.b3 = params[5]\n",
    "    self.w4 = params[6]\n",
    "    self.b4 = params[7]\n",
    "    self.w5 = params[8]\n",
    "    self.b5 = params[9]\n",
    "\n",
    "  def forward(self, x):\n",
    "    out = self.softplus(torch.matmul(x,   self.w1) + self.b1)\n",
    "    out = self.softplus(torch.matmul(out, self.w2) + self.b2)\n",
    "    out = self.softplus(torch.matmul(out, self.w3) + self.b3)\n",
    "    out = self.softplus(torch.matmul(out, self.w4) + self.b4)\n",
    "    out = torch.matmul(out, self.w5) + self.b5\n",
    "    return out\n",
    "\n",
    "model = Model(params)"
   ]
  },
  {
   "cell_type": "code",
   "execution_count": 5,
   "metadata": {},
   "outputs": [],
   "source": [
    "loss = torch.nn.MSELoss()"
   ]
  },
  {
   "cell_type": "code",
   "execution_count": 12,
   "metadata": {},
   "outputs": [],
   "source": [
    "learning_rate = 0.001\n",
    "optimizer = torch.optim.Adam(params, lr=learning_rate)"
   ]
  },
  {
   "cell_type": "code",
   "execution_count": 15,
   "metadata": {},
   "outputs": [
    {
     "name": "stdout",
     "output_type": "stream",
     "text": [
      "epoch 1, loss 0.003036\n"
     ]
    }
   ],
   "source": [
    "num_epochs = 1\n",
    "for epoch in range(num_epochs):\n",
    "  for X, y in train_iter:\n",
    "    l = loss(model(X.float()), y.float())\n",
    "\n",
    "    optimizer.zero_grad()\n",
    "    l.backward()\n",
    "    optimizer.step()\n",
    "\n",
    "  l = loss(model(train_features.float()), train_labels.float())\n",
    "  print(f'epoch {epoch + 1}, loss {l:f}')"
   ]
  },
  {
   "cell_type": "code",
   "execution_count": 16,
   "metadata": {},
   "outputs": [
    {
     "name": "stdout",
     "output_type": "stream",
     "text": [
      "tensor([[-2.2003e-02],\n",
      "        [ 1.2750e-02],\n",
      "        [ 2.2764e-01],\n",
      "        [ 3.4108e+01],\n",
      "        [-1.8322e-02]])\n",
      "tensor([[0.0000e+00],\n",
      "        [1.0551e-02],\n",
      "        [2.4765e-01],\n",
      "        [3.4387e+01],\n",
      "        [5.1302e-14]])\n"
     ]
    }
   ],
   "source": [
    "with torch.no_grad():\n",
    "  print(model(train_features[:5].float()))\n",
    "  print(train_labels[:5].float())"
   ]
  },
  {
   "cell_type": "code",
   "execution_count": 17,
   "metadata": {},
   "outputs": [
    {
     "name": "stdout",
     "output_type": "stream",
     "text": [
      "loss 0.003020\n"
     ]
    }
   ],
   "source": [
    "with torch.no_grad():\n",
    "  l = loss(model(test_features.float()), test_labels.float())\n",
    "  print(f'loss {l:f}')"
   ]
  },
  {
   "cell_type": "code",
   "execution_count": 18,
   "metadata": {},
   "outputs": [],
   "source": [
    "torch.save(model.state_dict(), '../save/black_scholes_scratch.ckpt')"
   ]
  },
  {
   "cell_type": "code",
   "execution_count": 19,
   "metadata": {},
   "outputs": [
    {
     "data": {
      "image/png": "[encoded data removed]",
      "text/plain": [
       "<Figure size 432x288 with 1 Axes>"
      ]
     },
     "metadata": {
      "needs_background": "light"
     },
     "output_type": "display_data"
    }
   ],
   "source": [
    "with torch.no_grad():\n",
    "  predicted = model(train_features.float()).numpy().reshape(-1)\n",
    "  original = train_labels.numpy().reshape(-1)\n",
    "\n",
    "  plt.plot(original, predicted, 'ro')\n",
    "  plt.xlabel(\"original\")\n",
    "  plt.ylabel(\"predicted\")\n",
    "  plt.plot([0, 70], [0, 70])\n",
    "  plt.show()"
   ]
  },
  {
   "cell_type": "code",
   "execution_count": 20,
   "metadata": {},
   "outputs": [
    {
     "data": {
      "image/png": "[encoded data removed]",
      "text/plain": [
       "<Figure size 432x288 with 1 Axes>"
      ]
     },
     "metadata": {
      "needs_background": "light"
     },
     "output_type": "display_data"
    }
   ],
   "source": [
    "with torch.no_grad():\n",
    "  predicted = model(test_features.float()).numpy().reshape(-1)\n",
    "  original = test_labels.numpy().reshape(-1)\n",
    "\n",
    "  plt.plot(original, predicted, 'ro')\n",
    "  plt.xlabel(\"original\")\n",
    "  plt.ylabel(\"predicted\")\n",
    "  plt.plot([0, 70], [0, 70])\n",
    "  plt.show()"
   ]
  },
  {
   "cell_type": "code",
   "execution_count": 86,
   "metadata": {},
   "outputs": [
    {
     "name": "stdout",
     "output_type": "stream",
     "text": [
      "0.08928221994619334\n",
      "tensor([0.0885])\n"
     ]
    }
   ],
   "source": [
    "from synthetic_black_scholes_data import value_call_option\n",
    "import random\n",
    "\n",
    "strike = random.uniform(7, 650)\n",
    "spot = random.uniform(10, 500)\n",
    "maturity = random.randint(1, 1095) / 365.\n",
    "dividend = random.uniform(.0,  .03)\n",
    "discount = random.uniform(.01, .03)\n",
    "volatility = random.uniform(.05, .9)\n",
    "\n",
    "price = value_call_option(strike, spot, maturity, dividend, discount, volatility) / strike\n",
    "predicted = model(torch.tensor([spot / strike, maturity, dividend, discount, volatility])).detach()\n",
    "print(price)\n",
    "print(predicted)"
   ]
  },
  {
   "cell_type": "code",
   "execution_count": null,
   "metadata": {},
   "outputs": [],
   "source": []
  }
 ],
 "metadata": {
  "interpreter": {
   "hash": "00ba3cee10e5898124d14c1f20acdfddb775639586b51b12ea3c3cc061e6c1cc"
  },
  "kernelspec": {
   "display_name": "Python 3.8.0 64-bit",
   "language": "python",
   "name": "python3"
  },
  "language_info": {
   "codemirror_mode": {
    "name": "ipython",
    "version": 3
   },
   "file_extension": ".py",
   "mimetype": "text/x-python",
   "name": "python",
   "nbconvert_exporter": "python",
   "pygments_lexer": "ipython3",
   "version": "3.8.0"
  },
  "orig_nbformat": 4
 },
 "nbformat": 4,
 "nbformat_minor": 2
}
