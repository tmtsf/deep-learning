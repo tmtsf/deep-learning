{
 "cells": [
  {
   "cell_type": "markdown",
   "metadata": {},
   "source": [
    "## Deep Learning Black-Scholes Formula - III"
   ]
  },
  {
   "cell_type": "code",
   "execution_count": 1,
   "metadata": {},
   "outputs": [],
   "source": [
    "import numpy as np\n",
    "import torch\n",
    "import csv\n",
    "import matplotlib.pyplot as plt"
   ]
  },
  {
   "cell_type": "code",
   "execution_count": 16,
   "metadata": {},
   "outputs": [],
   "source": [
    "dataset = []\n",
    "with open('../data/black_scholes_with_greeks.csv', newline='\\n') as csvfile:\n",
    "  reader = csv.reader(csvfile, delimiter=',')\n",
    "  for row in reader:\n",
    "    dataset.append(row)\n",
    "\n",
    "train_set, test_set = np.array(dataset[:80000], dtype=float), np.array(dataset[80000:], dtype=float)\n",
    "\n",
    "train_set_norm = train_set\n",
    "test_set_norm = test_set\n",
    "\n",
    "mean = np.mean(train_set[:, :6], axis=0)\n",
    "std = np.std(train_set[:, :6], axis=0)\n",
    "\n",
    "train_set_norm[:, :6] = (train_set[:, :6] - mean) / std\n",
    "train_set_norm[:, 6:] = train_set[:, 6:] * std[:5] / std[5]\n",
    "\n",
    "test_set_norm[:, :6] = (test_set[:, :6] - mean) / std\n",
    "test_set_norm[:, 6:] = test_set[:, 6:] * std[:5] / std[5]\n",
    "\n",
    "train_features, train_labels = torch.from_numpy(train_set_norm[:, 0:5]), torch.from_numpy(train_set_norm[:, 5:])\n",
    "test_features, test_labels = torch.from_numpy(test_set_norm[:, 0:5]), torch.from_numpy(test_set_norm[:, 5:])"
   ]
  },
  {
   "cell_type": "code",
   "execution_count": 17,
   "metadata": {},
   "outputs": [],
   "source": [
    "batch_size = 50\n",
    "train_iter = torch.utils.data.DataLoader(torch.utils.data.TensorDataset(train_features, train_labels),\n",
    "                                         batch_size,\n",
    "                                         shuffle=True)\n",
    "test_iter = torch.utils.data.DataLoader(torch.utils.data.TensorDataset(test_features, test_labels),\n",
    "                                        batch_size,\n",
    "                                        shuffle=False)\n"
   ]
  },
  {
   "cell_type": "code",
   "execution_count": 6,
   "metadata": {},
   "outputs": [],
   "source": [
    "num_inputs = 5\n",
    "num_hidden = 50\n",
    "num_outputs = 1\n",
    "\n",
    "w1 = torch.nn.Parameter(torch.randn(num_inputs, num_hidden, requires_grad=True) * .02)\n",
    "b1 = torch.nn.Parameter(torch.zeros(num_hidden, requires_grad=True))\n",
    "w2 = torch.nn.Parameter(torch.randn(num_hidden, num_hidden, requires_grad=True) * .01)\n",
    "b2 = torch.nn.Parameter(torch.zeros(num_hidden, requires_grad=True))\n",
    "w3 = torch.nn.Parameter(torch.randn(num_hidden, num_hidden, requires_grad=True) * .03)\n",
    "b3 = torch.nn.Parameter(torch.zeros(num_hidden, requires_grad=True))\n",
    "w4 = torch.nn.Parameter(torch.randn(num_hidden, num_hidden, requires_grad=True) * .01)\n",
    "b4 = torch.nn.Parameter(torch.zeros(num_hidden, requires_grad=True))\n",
    "w5 = torch.nn.Parameter(torch.randn(num_hidden, num_outputs, requires_grad=True) * .04)\n",
    "b5 = torch.nn.Parameter(torch.zeros(num_outputs, requires_grad=True))\n",
    "\n",
    "params = [w1, b1, w2, b2, w3, b3, w4, b4, w5, b5]\n",
    "\n",
    "class Model(torch.nn.Module):\n",
    "  def __init__(self, params) -> None:\n",
    "    super(Model, self).__init__()\n",
    "    self.softplus = torch.nn.Softplus()\n",
    "    self.sigmoid = torch.nn.Sigmoid()\n",
    "    self.w1 = params[0]\n",
    "    self.b1 = params[1]\n",
    "    self.w2 = params[2]\n",
    "    self.b2 = params[3]\n",
    "    self.w3 = params[4]\n",
    "    self.b3 = params[5]\n",
    "    self.w4 = params[6]\n",
    "    self.b4 = params[7]\n",
    "    self.w5 = params[8]\n",
    "    self.b5 = params[9]\n",
    "\n",
    "  def forward(self, x):\n",
    "    y1 = torch.matmul(self.softplus(x),  self.w1) + self.b1\n",
    "    y2 = torch.matmul(self.softplus(y1), self.w2) + self.b2\n",
    "    y3 = torch.matmul(self.softplus(y2), self.w3) + self.b3\n",
    "    y4 = torch.matmul(self.softplus(y3), self.w4) + self.b4\n",
    "    y5 = torch.matmul(self.softplus(y4), self.w5) + self.b5\n",
    "\n",
    "    z5 = torch.ones_like(y5)\n",
    "    z4 = torch.matmul(z5, torch.transpose(self.w5, 0, 1)) * self.sigmoid(y4)\n",
    "    z3 = torch.matmul(z4, torch.transpose(self.w4, 0, 1)) * self.sigmoid(y3)\n",
    "    z2 = torch.matmul(z3, torch.transpose(self.w3, 0, 1)) * self.sigmoid(y2)\n",
    "    z1 = torch.matmul(z2, torch.transpose(self.w2, 0, 1)) * self.sigmoid(y1)\n",
    "    z0 = torch.matmul(z1, torch.transpose(self.w1, 0, 1)) * self.sigmoid(x)\n",
    "\n",
    "    return y5, z0\n",
    "\n",
    "model = Model(params)"
   ]
  },
  {
   "cell_type": "code",
   "execution_count": 7,
   "metadata": {},
   "outputs": [],
   "source": [
    "loss = torch.nn.MSELoss()"
   ]
  },
  {
   "cell_type": "code",
   "execution_count": 11,
   "metadata": {},
   "outputs": [],
   "source": [
    "learning_rate = 0.001\n",
    "optimizer = torch.optim.Adam(params, lr=learning_rate)"
   ]
  },
  {
   "cell_type": "code",
   "execution_count": 18,
   "metadata": {},
   "outputs": [
    {
     "name": "stdout",
     "output_type": "stream",
     "text": [
      "epoch 1, loss 0.000790\n",
      "epoch 2, loss 0.000630\n",
      "epoch 3, loss 0.000570\n",
      "epoch 4, loss 0.000477\n",
      "epoch 5, loss 0.000595\n",
      "epoch 6, loss 0.000447\n",
      "epoch 7, loss 0.000390\n",
      "epoch 8, loss 0.000561\n",
      "epoch 9, loss 0.000609\n",
      "epoch 10, loss 0.000355\n"
     ]
    }
   ],
   "source": [
    "num_epochs = 10\n",
    "for epoch in range(num_epochs):\n",
    "  for X, y in train_iter:\n",
    "    val, deriv = model(X.float())\n",
    "    l1 = loss(val, y.float()[:, 0].reshape(val.shape))\n",
    "    l2 = loss(deriv, y.float()[:, 1:].reshape(deriv.shape))\n",
    "    l = l1 + l2\n",
    "\n",
    "    optimizer.zero_grad()\n",
    "    l.backward()\n",
    "    optimizer.step()\n",
    "\n",
    "  val, deriv = model(train_features.float())\n",
    "  l1 = loss(val, train_labels.float()[:, 0].reshape(val.shape))\n",
    "  l2 = loss(deriv, train_labels.float()[:, 1:].reshape(deriv.shape))\n",
    "  l = l1 + l2\n",
    "  print(f'epoch {epoch + 1}, loss {l:f}')\n"
   ]
  },
  {
   "cell_type": "code",
   "execution_count": 80,
   "metadata": {},
   "outputs": [],
   "source": [
    "torch.save(model.state_dict(), '../save/black_scholes_greeks.ckpt')"
   ]
  },
  {
   "cell_type": "code",
   "execution_count": 21,
   "metadata": {},
   "outputs": [
    {
     "data": {
      "image/png": "[encoded data removed]",
      "text/plain": [
       "<Figure size 432x288 with 1 Axes>"
      ]
     },
     "metadata": {
      "needs_background": "light"
     },
     "output_type": "display_data"
    }
   ],
   "source": [
    "with torch.no_grad():\n",
    "  val, deriv = model(train_features.float())\n",
    "  predicted = val.numpy().reshape(-1)\n",
    "  original = train_labels[:, 0].numpy().reshape(-1)\n",
    "\n",
    "  plt.plot(original, predicted, 'ro')\n",
    "  plt.xlabel(\"original\")\n",
    "  plt.ylabel(\"predicted\")\n",
    "  plt.plot([-.5, 18], [-.5, 18])\n",
    "  plt.show()"
   ]
  },
  {
   "cell_type": "code",
   "execution_count": 25,
   "metadata": {},
   "outputs": [
    {
     "data": {
      "image/png": "[encoded data removed]",
      "text/plain": [
       "<Figure size 432x288 with 1 Axes>"
      ]
     },
     "metadata": {
      "needs_background": "light"
     },
     "output_type": "display_data"
    }
   ],
   "source": [
    "with torch.no_grad():\n",
    "  val, deriv = model(test_features.float())\n",
    "  predicted = val.numpy().reshape(-1)\n",
    "  original = test_labels[:, 0].numpy().reshape(-1)\n",
    "\n",
    "  plt.plot(original, predicted, 'ro')\n",
    "  plt.xlabel(\"original\")\n",
    "  plt.ylabel(\"predicted\")\n",
    "  plt.plot([-.5, 19], [-.5, 19])\n",
    "  plt.show()"
   ]
  },
  {
   "cell_type": "code",
   "execution_count": null,
   "metadata": {},
   "outputs": [],
   "source": []
  }
 ],
 "metadata": {
  "interpreter": {
   "hash": "04635d289a519a1410467dd0afb0db42f9184808881ca68b2eb5a687a20a5a94"
  },
  "kernelspec": {
   "display_name": "Python 3.7.3 64-bit",
   "language": "python",
   "name": "python3"
  },
  "language_info": {
   "codemirror_mode": {
    "name": "ipython",
    "version": 3
   },
   "file_extension": ".py",
   "mimetype": "text/x-python",
   "name": "python",
   "nbconvert_exporter": "python",
   "pygments_lexer": "ipython3",
   "version": "3.7.3"
  },
  "metadata": {
   "interpreter": {
    "hash": "04635d289a519a1410467dd0afb0db42f9184808881ca68b2eb5a687a20a5a94"
   }
  },
  "orig_nbformat": 4
 },
 "nbformat": 4,
 "nbformat_minor": 2
}
