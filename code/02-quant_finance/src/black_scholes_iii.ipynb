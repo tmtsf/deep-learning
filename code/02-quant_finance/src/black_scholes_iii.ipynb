{
 "cells": [
  {
   "cell_type": "markdown",
   "metadata": {},
   "source": [
    "## Deep Learning Black-Scholes Formula - III"
   ]
  },
  {
   "cell_type": "code",
   "execution_count": 1,
   "metadata": {},
   "outputs": [],
   "source": [
    "import numpy as np\n",
    "import torch\n",
    "import csv\n",
    "import matplotlib.pyplot as plt"
   ]
  },
  {
   "cell_type": "code",
   "execution_count": 19,
   "metadata": {},
   "outputs": [],
   "source": [
    "dataset = []\n",
    "with open('../data/black_scholes_with_greeks.csv', newline='\\n') as csvfile:\n",
    "  reader = csv.reader(csvfile, delimiter=',')\n",
    "  for row in reader:\n",
    "    dataset.append(row)\n",
    "\n",
    "train_set, test_set = np.array(dataset[:4096], dtype=float), np.array(dataset[4096:], dtype=float)\n",
    "train_features, train_labels = torch.from_numpy(train_set[:, 0:5]), torch.from_numpy(train_set[:, 5:])\n",
    "test_features, test_labels = torch.from_numpy(test_set[:, 0:5]), torch.from_numpy(test_set[:, 5:])"
   ]
  },
  {
   "cell_type": "code",
   "execution_count": 20,
   "metadata": {},
   "outputs": [],
   "source": [
    "batch_size = 256\n",
    "train_iter = torch.utils.data.DataLoader(torch.utils.data.TensorDataset(train_features, train_labels),\n",
    "                                         batch_size,\n",
    "                                         shuffle=True)\n",
    "test_iter = torch.utils.data.DataLoader(torch.utils.data.TensorDataset(test_features, test_labels),\n",
    "                                        batch_size,\n",
    "                                        shuffle=False)\n"
   ]
  },
  {
   "cell_type": "code",
   "execution_count": 21,
   "metadata": {},
   "outputs": [],
   "source": [
    "num_inputs = 5\n",
    "num_hidden = 20\n",
    "num_outputs = 1\n",
    "\n",
    "w1 = torch.nn.Parameter(torch.randn(num_inputs, num_hidden, requires_grad=True) * .01)\n",
    "b1 = torch.nn.Parameter(torch.zeros(num_hidden, requires_grad=True))\n",
    "w2 = torch.nn.Parameter(torch.randn(num_hidden, num_hidden, requires_grad=True) * .01)\n",
    "b2 = torch.nn.Parameter(torch.zeros(num_hidden, requires_grad=True))\n",
    "w3 = torch.nn.Parameter(torch.randn(num_hidden, num_hidden, requires_grad=True) * .01)\n",
    "b3 = torch.nn.Parameter(torch.zeros(num_hidden, requires_grad=True))\n",
    "w4 = torch.nn.Parameter(torch.randn(num_hidden, num_hidden, requires_grad=True) * .01)\n",
    "b4 = torch.nn.Parameter(torch.zeros(num_hidden, requires_grad=True))\n",
    "w5 = torch.nn.Parameter(torch.randn(num_hidden, num_outputs, requires_grad=True) * .01)\n",
    "b5 = torch.nn.Parameter(torch.zeros(num_outputs, requires_grad=True))\n",
    "\n",
    "params = [w1, b1, w2, b2, w3, b3, w4, b4, w5, b5]\n",
    "\n",
    "class Model(torch.nn.Module):\n",
    "  def __init__(self, params) -> None:\n",
    "    super(Model, self).__init__()\n",
    "    self.softplus = torch.nn.Softplus()\n",
    "    self.sigmoid = torch.nn.Sigmoid()\n",
    "    self.w1 = params[0]\n",
    "    self.b1 = params[1]\n",
    "    self.w2 = params[2]\n",
    "    self.b2 = params[3]\n",
    "    self.w3 = params[4]\n",
    "    self.b3 = params[5]\n",
    "    self.w4 = params[6]\n",
    "    self.b4 = params[7]\n",
    "    self.w5 = params[8]\n",
    "    self.b5 = params[9]\n",
    "\n",
    "  def forward(self, x):\n",
    "    y1 = self.softplus(torch.matmul(x,  self.w1) + self.b1)\n",
    "    y2 = self.softplus(torch.matmul(y1, self.w2) + self.b2)\n",
    "    y3 = self.softplus(torch.matmul(y2, self.w3) + self.b3)\n",
    "    y4 = self.softplus(torch.matmul(y3, self.w4) + self.b4)\n",
    "    out = torch.matmul(y4, self.w5) + self.b5\n",
    "\n",
    "    deriv = torch.ones_like(out)\n",
    "    deriv = torch.matmul(deriv, torch.transpose(self.w5, 0, 1)) * self.sigmoid(y4)\n",
    "    deriv = torch.matmul(deriv, torch.transpose(self.w4, 0, 1)) * self.sigmoid(y3)\n",
    "    deriv = torch.matmul(deriv, torch.transpose(self.w3, 0, 1)) * self.sigmoid(y2)\n",
    "    deriv = torch.matmul(deriv, torch.transpose(self.w2, 0, 1)) * self.sigmoid(y1)\n",
    "    deriv = torch.matmul(deriv, torch.transpose(self.w1, 0, 1)) * self.sigmoid(x)\n",
    "\n",
    "    return out, deriv\n",
    "\n",
    "model = Model(params)"
   ]
  },
  {
   "cell_type": "code",
   "execution_count": 22,
   "metadata": {},
   "outputs": [],
   "source": [
    "loss = torch.nn.MSELoss()"
   ]
  },
  {
   "cell_type": "code",
   "execution_count": 56,
   "metadata": {},
   "outputs": [],
   "source": [
    "learning_rate = 0.0005\n",
    "optimizer = torch.optim.SGD(params, lr=learning_rate)"
   ]
  },
  {
   "cell_type": "code",
   "execution_count": 63,
   "metadata": {},
   "outputs": [
    {
     "name": "stdout",
     "output_type": "stream",
     "text": [
      "epoch 1, loss 0.273957\n",
      "epoch 2, loss 0.274586\n",
      "epoch 3, loss 0.273312\n",
      "epoch 4, loss 0.274006\n",
      "epoch 5, loss 0.273182\n",
      "epoch 6, loss 0.278113\n",
      "epoch 7, loss 0.275056\n",
      "epoch 8, loss 0.273039\n",
      "epoch 9, loss 0.275632\n",
      "epoch 10, loss 0.271818\n"
     ]
    }
   ],
   "source": [
    "num_epochs = 10\n",
    "for epoch in range(num_epochs):\n",
    "  for X, y in train_iter:\n",
    "    val, deriv = model(X.float())\n",
    "    l1 = loss(val, y.float()[:, 0].reshape(val.shape))\n",
    "    l2 = loss(deriv, y.float()[:, 1:].reshape(deriv.shape))\n",
    "    l = l1 + l2\n",
    "\n",
    "    optimizer.zero_grad()\n",
    "    l.backward()\n",
    "    optimizer.step()\n",
    "\n",
    "  val, deriv = model(train_features.float())\n",
    "  l1 = loss(val, train_labels.float()[:, 0].reshape(val.shape))\n",
    "  l2 = loss(deriv, train_labels.float()[:, 1:].reshape(deriv.shape))\n",
    "  l = l1 + l2\n",
    "  print(f'epoch {epoch + 1}, loss {l:f}')"
   ]
  },
  {
   "cell_type": "code",
   "execution_count": 64,
   "metadata": {},
   "outputs": [],
   "source": [
    "torch.save(model.state_dict(), '../save/black_scholes_greeks.ckpt')"
   ]
  },
  {
   "cell_type": "code",
   "execution_count": 65,
   "metadata": {},
   "outputs": [
    {
     "data": {
      "image/png": "[encoded data removed]",
      "text/plain": [
       "<Figure size 432x288 with 1 Axes>"
      ]
     },
     "metadata": {
      "needs_background": "light"
     },
     "output_type": "display_data"
    }
   ],
   "source": [
    "with torch.no_grad():\n",
    "  val, deriv = model(train_features.float())\n",
    "  predicted = val.numpy().reshape(-1)\n",
    "  original = train_labels[:, 0].numpy().reshape(-1)\n",
    "\n",
    "  plt.plot(original, predicted, 'ro')\n",
    "  plt.xlabel(\"original\")\n",
    "  plt.ylabel(\"predicted\")\n",
    "  plt.plot([0, 60], [0, 60])\n",
    "  plt.show()"
   ]
  },
  {
   "cell_type": "code",
   "execution_count": 68,
   "metadata": {},
   "outputs": [
    {
     "data": {
      "image/png": "[encoded data removed]",
      "text/plain": [
       "<Figure size 432x288 with 1 Axes>"
      ]
     },
     "metadata": {
      "needs_background": "light"
     },
     "output_type": "display_data"
    }
   ],
   "source": [
    "with torch.no_grad():\n",
    "  val, deriv = model(test_features.float())\n",
    "  predicted = val.numpy().reshape(-1)\n",
    "  original = test_labels[:, 0].numpy().reshape(-1)\n",
    "\n",
    "  plt.plot(original, predicted, 'ro')\n",
    "  plt.xlabel(\"original\")\n",
    "  plt.ylabel(\"predicted\")\n",
    "  plt.plot([0, 70], [0, 70])\n",
    "  plt.show()"
   ]
  },
  {
   "cell_type": "code",
   "execution_count": 22,
   "metadata": {},
   "outputs": [
    {
     "name": "stdout",
     "output_type": "stream",
     "text": [
      "0.5008855378998333\n",
      "tensor([0.4817])\n"
     ]
    }
   ],
   "source": [
    "from synthetic_black_scholes_data import value_call_option\n",
    "import random\n",
    "\n",
    "strike = random.uniform(7, 650)\n",
    "spot = random.uniform(10, 500)\n",
    "maturity = random.randint(1, 1095) / 365.\n",
    "dividend = random.uniform(.0,  .03)\n",
    "discount = random.uniform(.01, .03)\n",
    "volatility = random.uniform(.05, .9)\n",
    "\n",
    "price = value_call_option(strike, spot, maturity, dividend, discount, volatility) / strike\n",
    "predicted = model(torch.tensor([spot / strike, maturity, dividend, discount, volatility])).detach()\n",
    "print(price)\n",
    "print(predicted)"
   ]
  },
  {
   "cell_type": "code",
   "execution_count": null,
   "metadata": {},
   "outputs": [],
   "source": []
  }
 ],
 "metadata": {
  "interpreter": {
   "hash": "00ba3cee10e5898124d14c1f20acdfddb775639586b51b12ea3c3cc061e6c1cc"
  },
  "kernelspec": {
   "display_name": "Python 3.8.0 64-bit",
   "language": "python",
   "name": "python3"
  },
  "language_info": {
   "codemirror_mode": {
    "name": "ipython",
    "version": 3
   },
   "file_extension": ".py",
   "mimetype": "text/x-python",
   "name": "python",
   "nbconvert_exporter": "python",
   "pygments_lexer": "ipython3",
   "version": "3.8.0"
  },
  "orig_nbformat": 4
 },
 "nbformat": 4,
 "nbformat_minor": 2
}
